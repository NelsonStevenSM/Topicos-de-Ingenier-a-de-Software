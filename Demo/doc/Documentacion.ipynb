{
 "cells": [
  {
   "cell_type": "markdown",
   "metadata": {},
   "source": [
    "<center>\n",
    "    <h1><b>SIMPLE INJECTOR</b></h1>\n",
    "    <h4>(Mini-libreria de DI para python)</h4>\n",
    "</center>\n",
    "\n",
    "<h2><b>Documentación ilustrativa</b></h2>\n",
    "Autor: Luis Vasquez\n",
    "\n",
    "___\n",
    "\n",
    "___"
   ]
  },
  {
   "cell_type": "markdown",
   "metadata": {},
   "source": [
    "## Generator\n",
    "Clase de producción de dependencias individuales.\n",
    "* __init__: Método constructor que especifica la clase que generará el _generator_ y los argumentos que utilizará.\n",
    "    \n",
    "    * self.construction_kwargs: Diccionario de argumentos de dependencias\n",
    "    \n",
    "    * self.simple_kwargs: Diccionario de argumentos planos (IoC-friendly)\n",
    "\n",
    "* __call__: Método de fabricación de instancias. Construirá primero un diccionario de argumentos a partir de las tres (3) posibles fuentes de dependencias especificadas durante la vida del __generator__. Finalmente, retorna la instancia de la clase especificada durante la contrucción, usando los argumentos almacenados en el diccionar previamente construido."
   ]
  },
  {
   "cell_type": "code",
   "execution_count": 1,
   "metadata": {},
   "outputs": [],
   "source": [
    "class Generator:\n",
    "    def __init__(self, class_reference, **kwargs):\n",
    "        self.class_type = class_reference\n",
    "        self.construction_kwargs = {}\n",
    "        self.simple_kwargs = {}\n",
    "        for arg, constructor in kwargs.items():\n",
    "            if isinstance(constructor, Generator):\n",
    "                self.construction_kwargs[arg] = constructor\n",
    "            else:\n",
    "                self.simple_kwargs[arg] = constructor\n",
    "\n",
    "    def __call__(self, **specific_kwargs):\n",
    "        final_args_dict = {}\n",
    "\n",
    "        for arg, generator in self.construction_kwargs.items():\n",
    "            final_args_dict[arg] = generator()\n",
    "\n",
    "        for arg, value in self.simple_kwargs.items():\n",
    "            final_args_dict[arg] = value\n",
    "\n",
    "        for arg, value in specific_kwargs.items():\n",
    "            final_args_dict[arg] = value\n",
    "\n",
    "        return self.class_type(**final_args_dict)"
   ]
  },
  {
   "cell_type": "markdown",
   "metadata": {},
   "source": [
    "## Container\n",
    "Clase de agrupación y administración de generadores.\n",
    "* __init__: Método constructor que especifica los generadores con los que se trabajará.\n",
    "    \n",
    "    * self.generators: Lista de _< Generator >_'s"
   ]
  },
  {
   "cell_type": "code",
   "execution_count": 2,
   "metadata": {},
   "outputs": [],
   "source": [
    "class Container:\n",
    "\tdef __init__(self):\n",
    "\t\tself.generators = []\n",
    "\t\n",
    "\tdef __str__(self):\n",
    "\t\tdependencies = [g.class_type for g in self.generators]\n",
    "\t\tunique_generators = list(set(dependencies))\n",
    "\t\tdependencies_count = {unique_dependency: dependencies.count(unique_dependency)\n",
    "\t\t\t\tfor unique_dependency in unique_generators}\n",
    "\t\t\n",
    "\t\treturn str(dependencies_count)\n",
    "\n",
    "\tdef add_generators(self, generators):\n",
    "\t\tself.generators += generators"
   ]
  },
  {
   "cell_type": "markdown",
   "metadata": {},
   "source": [
    "___\n",
    "## Ejemplo\n",
    "Supongamos que deseamos administrar la generación de autómoviles a partir de la dependencia de sus autopartes:"
   ]
  },
  {
   "cell_type": "code",
   "execution_count": 3,
   "metadata": {},
   "outputs": [],
   "source": [
    "class Engine:\n",
    "    def __init__(self, brand):\n",
    "        self.brand = brand\n",
    "\n",
    "    def __str__(self):\n",
    "        return str(self.__dict__)\n",
    "\n",
    "class Car:\n",
    "    def __init__(self, engine, car_id):\n",
    "        self.engine = engine\n",
    "        self.id = car_id\n",
    "\n",
    "    def __str__(self):\n",
    "        return str(self.__dict__)"
   ]
  },
  {
   "cell_type": "code",
   "execution_count": 4,
   "metadata": {},
   "outputs": [
    {
     "name": "stdout",
     "output_type": "stream",
     "text": [
      "Generator: <__main__.Generator object at 0x7f8ab41cf320>\n",
      "Generates: <class '__main__.Engine'>\n",
      "Object args: {'brand': 'Ford'}\n"
     ]
    }
   ],
   "source": [
    "engine_generator_1 = Generator(Engine)\n",
    "print(\"Generator:\", engine_generator_1)\n",
    "\n",
    "engine_1 = engine_generator_1(brand='Ford')\n",
    "print(\"Generates:\", type(engine_1))\n",
    "print(\"Object args:\", engine_1)"
   ]
  },
  {
   "cell_type": "code",
   "execution_count": 5,
   "metadata": {},
   "outputs": [
    {
     "name": "stdout",
     "output_type": "stream",
     "text": [
      "Generator: <__main__.Generator object at 0x7f8ab41cf470>\n",
      "Generates: <class '__main__.Engine'>\n",
      "Object args: {'brand': 'Renault'}\n"
     ]
    }
   ],
   "source": [
    "engine_generator_2 = Generator(Engine, brand='Renault')\n",
    "print(\"Generator:\", engine_generator_2)\n",
    "\n",
    "engine_2 = engine_generator_2()\n",
    "print(\"Generates:\", type(engine_2))\n",
    "print(\"Object args:\", engine_2)"
   ]
  },
  {
   "cell_type": "code",
   "execution_count": 6,
   "metadata": {},
   "outputs": [
    {
     "name": "stdout",
     "output_type": "stream",
     "text": [
      "Generator: <__main__.Generator object at 0x7f8ab41cf6a0>\n"
     ]
    },
    {
     "ename": "TypeError",
     "evalue": "__init__() missing 1 required positional argument: 'brand'",
     "output_type": "error",
     "traceback": [
      "\u001b[0;31m---------------------------------------------------------------------------\u001b[0m",
      "\u001b[0;31mTypeError\u001b[0m                                 Traceback (most recent call last)",
      "\u001b[0;32m<ipython-input-6-fc8f07702a09>\u001b[0m in \u001b[0;36m<module>\u001b[0;34m\u001b[0m\n\u001b[1;32m      2\u001b[0m \u001b[0mprint\u001b[0m\u001b[0;34m(\u001b[0m\u001b[0;34m\"Generator:\"\u001b[0m\u001b[0;34m,\u001b[0m \u001b[0mcar_generator_1\u001b[0m\u001b[0;34m)\u001b[0m\u001b[0;34m\u001b[0m\u001b[0;34m\u001b[0m\u001b[0m\n\u001b[1;32m      3\u001b[0m \u001b[0;34m\u001b[0m\u001b[0m\n\u001b[0;32m----> 4\u001b[0;31m \u001b[0mcar_1\u001b[0m \u001b[0;34m=\u001b[0m \u001b[0mcar_generator_1\u001b[0m\u001b[0;34m(\u001b[0m\u001b[0mcar_id\u001b[0m\u001b[0;34m=\u001b[0m\u001b[0;34m'BAD_CAR_123'\u001b[0m\u001b[0;34m)\u001b[0m\u001b[0;34m\u001b[0m\u001b[0;34m\u001b[0m\u001b[0m\n\u001b[0m",
      "\u001b[0;32m<ipython-input-1-ac3e1cbecf0c>\u001b[0m in \u001b[0;36m__call__\u001b[0;34m(self, **specific_kwargs)\u001b[0m\n\u001b[1;32m     14\u001b[0m \u001b[0;34m\u001b[0m\u001b[0m\n\u001b[1;32m     15\u001b[0m         \u001b[0;32mfor\u001b[0m \u001b[0marg\u001b[0m\u001b[0;34m,\u001b[0m \u001b[0mgenerator\u001b[0m \u001b[0;32min\u001b[0m \u001b[0mself\u001b[0m\u001b[0;34m.\u001b[0m\u001b[0mconstruction_kwargs\u001b[0m\u001b[0;34m.\u001b[0m\u001b[0mitems\u001b[0m\u001b[0;34m(\u001b[0m\u001b[0;34m)\u001b[0m\u001b[0;34m:\u001b[0m\u001b[0;34m\u001b[0m\u001b[0;34m\u001b[0m\u001b[0m\n\u001b[0;32m---> 16\u001b[0;31m             \u001b[0mfinal_args_dict\u001b[0m\u001b[0;34m[\u001b[0m\u001b[0marg\u001b[0m\u001b[0;34m]\u001b[0m \u001b[0;34m=\u001b[0m \u001b[0mgenerator\u001b[0m\u001b[0;34m(\u001b[0m\u001b[0;34m)\u001b[0m\u001b[0;34m\u001b[0m\u001b[0;34m\u001b[0m\u001b[0m\n\u001b[0m\u001b[1;32m     17\u001b[0m \u001b[0;34m\u001b[0m\u001b[0m\n\u001b[1;32m     18\u001b[0m         \u001b[0;32mfor\u001b[0m \u001b[0marg\u001b[0m\u001b[0;34m,\u001b[0m \u001b[0mvalue\u001b[0m \u001b[0;32min\u001b[0m \u001b[0mself\u001b[0m\u001b[0;34m.\u001b[0m\u001b[0msimple_kwargs\u001b[0m\u001b[0;34m.\u001b[0m\u001b[0mitems\u001b[0m\u001b[0;34m(\u001b[0m\u001b[0;34m)\u001b[0m\u001b[0;34m:\u001b[0m\u001b[0;34m\u001b[0m\u001b[0;34m\u001b[0m\u001b[0m\n",
      "\u001b[0;32m<ipython-input-1-ac3e1cbecf0c>\u001b[0m in \u001b[0;36m__call__\u001b[0;34m(self, **specific_kwargs)\u001b[0m\n\u001b[1;32m     22\u001b[0m             \u001b[0mfinal_args_dict\u001b[0m\u001b[0;34m[\u001b[0m\u001b[0marg\u001b[0m\u001b[0;34m]\u001b[0m \u001b[0;34m=\u001b[0m \u001b[0mvalue\u001b[0m\u001b[0;34m\u001b[0m\u001b[0;34m\u001b[0m\u001b[0m\n\u001b[1;32m     23\u001b[0m \u001b[0;34m\u001b[0m\u001b[0m\n\u001b[0;32m---> 24\u001b[0;31m         \u001b[0;32mreturn\u001b[0m \u001b[0mself\u001b[0m\u001b[0;34m.\u001b[0m\u001b[0mclass_type\u001b[0m\u001b[0;34m(\u001b[0m\u001b[0;34m**\u001b[0m\u001b[0mfinal_args_dict\u001b[0m\u001b[0;34m)\u001b[0m\u001b[0;34m\u001b[0m\u001b[0;34m\u001b[0m\u001b[0m\n\u001b[0m",
      "\u001b[0;31mTypeError\u001b[0m: __init__() missing 1 required positional argument: 'brand'"
     ]
    }
   ],
   "source": [
    "car_generator_1 = Generator(Car, engine=engine_generator_1)\n",
    "print(\"Generator:\", car_generator_1)\n",
    "\n",
    "car_1 = car_generator_1(car_id='BAD_CAR_123')"
   ]
  },
  {
   "cell_type": "code",
   "execution_count": 7,
   "metadata": {},
   "outputs": [
    {
     "name": "stdout",
     "output_type": "stream",
     "text": [
      "Generator: <__main__.Generator object at 0x7f8ab41502e8>\n",
      "Generates: <class '__main__.Car'>\n",
      "Object args: {'engine': <__main__.Engine object at 0x7f8ab4150358>, 'id': 'GOOD_CAR_123'}\n",
      "Engine in car: {'brand': 'Renault'}\n"
     ]
    }
   ],
   "source": [
    "car_generator_2 = Generator(Car, engine=engine_generator_2)\n",
    "print(\"Generator:\", car_generator_2)\n",
    "\n",
    "car_2 = car_generator_2(car_id='GOOD_CAR_123')\n",
    "print(\"Generates:\", type(car_2))\n",
    "print(\"Object args:\", car_2)\n",
    "print(\"Engine in car:\", car_2.engine)"
   ]
  },
  {
   "cell_type": "markdown",
   "metadata": {},
   "source": [
    "# **Aplicación & Demo**"
   ]
  },
  {
   "cell_type": "markdown",
   "metadata": {},
   "source": [
    "## Estructura inicial\n",
    "\n",
    "![](Main.png)"
   ]
  },
  {
   "cell_type": "markdown",
   "metadata": {},
   "source": [
    "## Distribución aplicando DI"
   ]
  },
  {
   "cell_type": "markdown",
   "metadata": {},
   "source": [
    "![](Main_DI.png)"
   ]
  }
 ],
 "metadata": {
  "kernelspec": {
   "display_name": "Python 3",
   "language": "python",
   "name": "python3"
  },
  "language_info": {
   "codemirror_mode": {
    "name": "ipython",
    "version": 3
   },
   "file_extension": ".py",
   "mimetype": "text/x-python",
   "name": "python",
   "nbconvert_exporter": "python",
   "pygments_lexer": "ipython3",
   "version": "3.7.3"
  }
 },
 "nbformat": 4,
 "nbformat_minor": 2
}
